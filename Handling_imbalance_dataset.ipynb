{
 "cells": [
  {
   "cell_type": "markdown",
   "id": "f4838ad8",
   "metadata": {},
   "source": [
    "### 📊 **What is Imbalanced Data?**\n",
    "\n",
    "**Imbalanced data** refers to a dataset where the **distribution of classes is not approximately equal**. One class has **much more data** than the other(s).\n",
    "\n",
    "### Example:\n",
    "\n",
    "binary classification:\n",
    "\n",
    "| Class | Count |\n",
    "|-------|-------|\n",
    "| 0     | 950   |\n",
    "| 1     | 50    |\n",
    "\n",
    "Here, class `0` dominates the data — this is **imbalanced**.\n",
    "\n",
    "---\n",
    "\n",
    "### Why is it a problem?\n",
    "\n",
    "1. **Misleading Accuracy**:\n",
    "   - A model that **predicts all 0s** would still get **95% accuracy** — but it’s **useless** for detecting class `1`.\n",
    "   \n",
    "2. **Poor Recall or Precision**:\n",
    "   - The model might **ignore the minority class**, leading to low **recall** or **F1 score**.\n",
    "\n",
    "3. **Bias toward majority class**:\n",
    "   - The model becomes biased toward predicting the more frequent class."
   ]
  },
  {
   "cell_type": "markdown",
   "id": "7eab19fe",
   "metadata": {},
   "source": [
    "# Ways To Handle Imbalance Data"
   ]
  },
  {
   "cell_type": "markdown",
   "id": "787b9406",
   "metadata": {},
   "source": [
    "## Under sampling majority class\n",
    "It involves removing some samples from the majority class to match the size of the minority class. It is not wise to use this method as a lot of data is being missed."
   ]
  },
  {
   "cell_type": "code",
   "execution_count": null,
   "id": "dd273785",
   "metadata": {},
   "outputs": [],
   "source": [
    "from imblearn.under_sampling import RandomUnderSampler\n",
    "\n",
    "# Initialize undersampler\n",
    "undersample = RandomUnderSampler(random_state=42)\n",
    "\n",
    "# Fit and resample\n",
    "X_resampled, y_resampled = undersample.fit_resample(X_train, y_train)\n",
    "\n",
    "# Now use X_resampled and y_resampled to train your model    "
   ]
  },
  {
   "cell_type": "markdown",
   "id": "a8a9abcb",
   "metadata": {},
   "source": [
    "## Over sampling minority class by duplication"
   ]
  },
  {
   "cell_type": "markdown",
   "id": "71d7346b",
   "metadata": {},
   "source": [
    "You randomly duplicate examples from the minority class to make its count equal to the majority class.\n",
    "This helps the model see the minority class more often during training."
   ]
  },
  {
   "cell_type": "code",
   "execution_count": null,
   "id": "25479186",
   "metadata": {},
   "outputs": [],
   "source": [
    "from imblearn.over_sampling import RandomOverSampler\n",
    "from collections import Counter\n",
    "\n",
    "# Before oversampling\n",
    "print(\"Before:\", Counter(y_train))\n",
    "\n",
    "# Initialize oversampler\n",
    "oversample = RandomOverSampler(random_state=42)\n",
    "\n",
    "# Resample\n",
    "X_resampled, y_resampled = oversample.fit_resample(X_train, y_train)\n",
    "\n",
    "# After oversampling\n",
    "print(\"After :\", Counter(y_resampled))\n"
   ]
  },
  {
   "cell_type": "markdown",
   "id": "e19fea71",
   "metadata": {},
   "source": [
    "# SMOTE"
   ]
  },
  {
   "cell_type": "markdown",
   "id": "a7b60cdc",
   "metadata": {},
   "source": [
    "SMOTE stands for Synthetic Minority Over-sampling Technique.\n",
    "Instead of duplicating existing data, SMOTE creates new synthetic examples of the minority class by interpolating between existing ones."
   ]
  },
  {
   "cell_type": "markdown",
   "id": "fdcce796",
   "metadata": {},
   "source": [
    "For each minority class sample, SMOTE:\n",
    "\n",
    "Finds its k nearest neighbors (usually k=5).\n",
    "\n",
    "Randomly picks one neighbor.\n",
    "\n",
    "Generates a new sample somewhere between the original and the neighbor.\n",
    "\n",
    "This gives more diverse and realistic samples than just copying.\n",
    "\n"
   ]
  },
  {
   "cell_type": "code",
   "execution_count": null,
   "id": "716520bc",
   "metadata": {},
   "outputs": [],
   "source": [
    "from imblearn.over_sampling import SMOTE\n",
    "from collections import Counter\n",
    "\n",
    "# Check class distribution before\n",
    "print(\"Before:\", Counter(y_train))\n",
    "\n",
    "# Apply SMOTE\n",
    "smote = SMOTE(random_state=42)\n",
    "X_smote, y_smote = smote.fit_resample(X_train, y_train)\n",
    "\n",
    "# Check class distribution after\n",
    "print(\"After :\", Counter(y_smote))\n"
   ]
  },
  {
   "cell_type": "markdown",
   "id": "8a3c8347",
   "metadata": {},
   "source": [
    "# Ensembel Method"
   ]
  },
  {
   "cell_type": "markdown",
   "id": "d79f63d9",
   "metadata": {},
   "source": [
    "In this method the majority data is "
   ]
  },
  {
   "cell_type": "markdown",
   "id": "39c4e263",
   "metadata": {},
   "source": []
  }
 ],
 "metadata": {
  "kernelspec": {
   "display_name": "Python 3",
   "language": "python",
   "name": "python3"
  },
  "language_info": {
   "codemirror_mode": {
    "name": "ipython",
    "version": 3
   },
   "file_extension": ".py",
   "mimetype": "text/x-python",
   "name": "python",
   "nbconvert_exporter": "python",
   "pygments_lexer": "ipython3",
   "version": "3.12.8"
  }
 },
 "nbformat": 4,
 "nbformat_minor": 5
}
