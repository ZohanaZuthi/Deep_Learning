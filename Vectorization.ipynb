{
 "cells": [
  {
   "cell_type": "code",
   "execution_count": 1,
   "metadata": {},
   "outputs": [
    {
     "name": "stdout",
     "output_type": "stream",
     "text": [
      "[1 2 3 4]\n"
     ]
    }
   ],
   "source": [
    "import numpy as np\n",
    "a=np.array([1,2,3,4])\n",
    "print(a)"
   ]
  },
  {
   "cell_type": "code",
   "execution_count": null,
   "metadata": {},
   "outputs": [
    {
     "name": "stdout",
     "output_type": "stream",
     "text": [
      "vectorized version: 1.062154769897461ms\n",
      "For loop: 51.860809326171875ms\n"
     ]
    }
   ],
   "source": [
    "import time\n",
    "a=np.random.rand(100000)\n",
    "b=np.random.rand(100000)\n",
    "tic=time.time()\n",
    "c=np.dot(a,b)\n",
    "toc=time.time()\n",
    "print(c)\n",
    "print(\"vectorized version: \"+str(1000*(toc-tic))+\"ms\")\n",
    "c=0\n",
    "tic=time.time()\n",
    "for i in range (100000):\n",
    "    c+=a[i]*b[i]\n",
    "toc=time.time()\n",
    "print(c)\n",
    "print(\"For loop: \"+str(1000*(toc-tic))+\"ms\")"
   ]
  },
  {
   "cell_type": "code",
   "execution_count": null,
   "metadata": {},
   "outputs": [],
   "source": []
  }
 ],
 "metadata": {
  "kernelspec": {
   "display_name": "Python 3",
   "language": "python",
   "name": "python3"
  },
  "language_info": {
   "codemirror_mode": {
    "name": "ipython",
    "version": 3
   },
   "file_extension": ".py",
   "mimetype": "text/x-python",
   "name": "python",
   "nbconvert_exporter": "python",
   "pygments_lexer": "ipython3",
   "version": "3.12.8"
  }
 },
 "nbformat": 4,
 "nbformat_minor": 2
}
