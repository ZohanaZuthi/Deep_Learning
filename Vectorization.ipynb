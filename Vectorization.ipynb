{
 "cells": [
  {
   "cell_type": "markdown",
   "metadata": {},
   "source": [
    "Vectorization in deep learning refers to expressing computations (especially over data arrays) using matrix and vector operations instead of loops. It's a crucial optimization technique used to accelerate computations and leverage modern hardware like GPUs."
   ]
  },
  {
   "cell_type": "code",
   "execution_count": 6,
   "metadata": {},
   "outputs": [
    {
     "name": "stdout",
     "output_type": "stream",
     "text": [
      "[1 2 3 4]\n"
     ]
    }
   ],
   "source": [
    "import numpy as np\n",
    "a=np.array([1,2,3,4])\n",
    "print(a)"
   ]
  },
  {
   "cell_type": "markdown",
   "metadata": {},
   "source": [
    "## time differnence between loop and vectorization\n",
    "vectorization replaces loop so it takes less time"
   ]
  },
  {
   "cell_type": "code",
   "execution_count": 7,
   "metadata": {},
   "outputs": [
    {
     "name": "stdout",
     "output_type": "stream",
     "text": [
      "25090.741483076712\n",
      "vectorized version: 0.0ms\n",
      "25090.741483076406\n",
      "For loop: 51.249027252197266ms\n"
     ]
    }
   ],
   "source": [
    "import time\n",
    "a=np.random.rand(100000)\n",
    "b=np.random.rand(100000)\n",
    "tic=time.time()\n",
    "c=np.dot(a,b)\n",
    "toc=time.time()\n",
    "print(c)\n",
    "print(\"vectorized version: \"+str(1000*(toc-tic))+\"ms\")\n",
    "c=0\n",
    "tic=time.time()\n",
    "for i in range (100000):\n",
    "    c+=a[i]*b[i]\n",
    "toc=time.time()\n",
    "print(c)\n",
    "print(\"For loop: \"+str(1000*(toc-tic))+\"ms\")"
   ]
  },
  {
   "cell_type": "markdown",
   "metadata": {},
   "source": [
    "Network Summary:\n",
    "Input layer: 3 features\n",
    "\n",
    "Hidden layer: 4 neurons\n",
    "\n",
    "Output layer: 1 neuron\n",
    "\n",
    "Activation function: sigmoid for both layers\n",
    "\n",
    "Number of examples: m = 5 (as an example)"
   ]
  },
  {
   "cell_type": "code",
   "execution_count": 8,
   "metadata": {},
   "outputs": [],
   "source": [
    "import numpy as np\n",
    "\n",
    "# Activation function\n",
    "def sigmoid(z):\n",
    "    return 1 / (1 + np.exp(-z))\n",
    "\n",
    "# Input data: 3 features, 5 examples\n",
    "X = np.array([[0.1, 0.2, 0.3, 0.4, 0.5],\n",
    "              [0.6, 0.7, 0.8, 0.9, 1.0],\n",
    "              [1.1, 1.2, 1.3, 1.4, 1.5]])  # Shape: (3, 5)\n",
    "\n",
    "# Parameters\n",
    "np.random.seed(1)\n",
    "W1 = np.random.randn(4, 3)  # 4 neurons, 3 inputs\n",
    "b1 = np.random.randn(4, 1)  # Bias for 4 hidden neurons\n",
    "W2 = np.random.randn(1, 4)  # Output neuron, 4 hidden neurons\n",
    "b2 = np.random.randn(1, 1)  # Bias for output neuron\n"
   ]
  },
  {
   "cell_type": "markdown",
   "metadata": {},
   "source": [
    "# Without Vectorization:"
   ]
  },
  {
   "cell_type": "code",
   "execution_count": 9,
   "metadata": {},
   "outputs": [],
   "source": [
    "m = X.shape[1]\n",
    "A1_loop = []\n",
    "A2_loop = []\n",
    "\n",
    "for i in range(m):\n",
    "    x_i = X[:, i].reshape(-1, 1)  # (3, 1)\n",
    "    \n",
    "    z1_i = np.dot(W1, x_i) + b1        # (4, 1)\n",
    "    a1_i = sigmoid(z1_i)\n",
    "    \n",
    "    z2_i = np.dot(W2, a1_i) + b2       # (1, 1)\n",
    "    a2_i = sigmoid(z2_i)\n",
    "    \n",
    "    A1_loop.append(a1_i)\n",
    "    A2_loop.append(a2_i)\n",
    "\n",
    "# Stack outputs\n",
    "A1_loop = np.hstack(A1_loop)  # Shape: (4, m)\n",
    "A2_loop = np.hstack(A2_loop)  # Shape: (1, m)\n"
   ]
  },
  {
   "cell_type": "markdown",
   "metadata": {},
   "source": [
    "# with vectorization"
   ]
  },
  {
   "cell_type": "code",
   "execution_count": 10,
   "metadata": {},
   "outputs": [],
   "source": [
    "Z1 = np.dot(W1, X) + b1      # Shape: (4, 5)\n",
    "A1 = sigmoid(Z1)\n",
    "\n",
    "Z2 = np.dot(W2, A1) + b2     # Shape: (1, 5)\n",
    "A2 = sigmoid(Z2)\n"
   ]
  },
  {
   "cell_type": "code",
   "execution_count": null,
   "metadata": {},
   "outputs": [],
   "source": []
  }
 ],
 "metadata": {
  "kernelspec": {
   "display_name": "Python 3",
   "language": "python",
   "name": "python3"
  },
  "language_info": {
   "codemirror_mode": {
    "name": "ipython",
    "version": 3
   },
   "file_extension": ".py",
   "mimetype": "text/x-python",
   "name": "python",
   "nbconvert_exporter": "python",
   "pygments_lexer": "ipython3",
   "version": "3.12.8"
  }
 },
 "nbformat": 4,
 "nbformat_minor": 2
}
