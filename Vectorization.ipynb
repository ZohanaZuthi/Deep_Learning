{
 "cells": [
  {
   "cell_type": "markdown",
   "metadata": {},
   "source": [
    "Vectorization in deep learning refers to expressing computations (especially over data arrays) using matrix and vector operations instead of loops. It's a crucial optimization technique used to accelerate computations and leverage modern hardware like GPUs."
   ]
  },
  {
   "cell_type": "code",
   "execution_count": 1,
   "metadata": {},
   "outputs": [
    {
     "name": "stdout",
     "output_type": "stream",
     "text": [
      "[1 2 3 4]\n"
     ]
    }
   ],
   "source": [
    "import numpy as np\n",
    "a=np.array([1,2,3,4])\n",
    "print(a)"
   ]
  },
  {
   "cell_type": "markdown",
   "metadata": {},
   "source": [
    "## time differnence between loop and vectorization\n",
    "vectorization replaces loop so it takes less time"
   ]
  },
  {
   "cell_type": "code",
   "execution_count": 3,
   "metadata": {},
   "outputs": [
    {
     "name": "stdout",
     "output_type": "stream",
     "text": [
      "24903.119841919975\n",
      "vectorized version: 0.24056434631347656ms\n",
      "24903.119841920052\n",
      "For loop: 27.650833129882812ms\n"
     ]
    }
   ],
   "source": [
    "import time\n",
    "a=np.random.rand(100000)\n",
    "b=np.random.rand(100000)\n",
    "tic=time.time()\n",
    "c=np.dot(a,b)\n",
    "toc=time.time()\n",
    "print(c)\n",
    "print(\"vectorized version: \"+str(1000*(toc-tic))+\"ms\")\n",
    "c=0\n",
    "tic=time.time()\n",
    "for i in range (100000):\n",
    "    c+=a[i]*b[i]\n",
    "toc=time.time()\n",
    "print(c)\n",
    "print(\"For loop: \"+str(1000*(toc-tic))+\"ms\")"
   ]
  },
  {
   "cell_type": "code",
   "execution_count": 4,
   "metadata": {},
   "outputs": [],
   "source": [
    "import numpy as np\n",
    "\n",
    "# Inputs: 3 features, 4 training examples\n",
    "X = np.array([[0.1, 0.2, 0.3, 0.4],\n",
    "              [0.5, 0.6, 0.7, 0.8],\n",
    "              [0.9, 1.0, 1.1, 1.2]])\n",
    "\n",
    "# Hidden layer weights and biases\n",
    "W1 = np.array([[0.1, 0.2, 0.3],\n",
    "               [0.4, 0.5, 0.6]])  # shape (2, 3)\n",
    "b1 = np.array([[0.01], [0.02]])   # shape (2, 1)\n",
    "\n",
    "# Output layer weights and biases\n",
    "W2 = np.array([[0.7, 0.8]])       # shape (1, 2)\n",
    "b2 = np.array([[0.03]])           # shape (1, 1)\n",
    "\n",
    "def sigmoid(z):\n",
    "    return 1 / (1 + np.exp(-z))\n"
   ]
  },
  {
   "cell_type": "markdown",
   "metadata": {},
   "source": [
    "# Without Vectorization:"
   ]
  },
  {
   "cell_type": "code",
   "execution_count": 5,
   "metadata": {},
   "outputs": [],
   "source": [
    "def forward_pass_without_vectorization(X, W1, b1, W2, b2):\n",
    "    m = X.shape[1]  # number of examples\n",
    "    A1 = np.zeros((W1.shape[0], m))\n",
    "    A2 = np.zeros((W2.shape[0], m))\n",
    "\n",
    "    for i in range(m):\n",
    "        x_i = X[:, i].reshape(-1, 1)            # (3, 1)\n",
    "        z1 = np.dot(W1, x_i) + b1               # (2, 1)\n",
    "        a1 = sigmoid(z1)\n",
    "        z2 = np.dot(W2, a1) + b2                # (1, 1)\n",
    "        a2 = sigmoid(z2)\n",
    "\n",
    "        A1[:, i] = a1.flatten()\n",
    "        A2[:, i] = a2.flatten()\n",
    "\n",
    "    return A2\n"
   ]
  },
  {
   "cell_type": "markdown",
   "metadata": {},
   "source": [
    "# with vectorization"
   ]
  },
  {
   "cell_type": "code",
   "execution_count": 6,
   "metadata": {},
   "outputs": [],
   "source": [
    "def forward_pass_with_vectorization(X, W1, b1, W2, b2):\n",
    "    Z1 = np.dot(W1, X) + b1                     # (2, 4)\n",
    "    A1 = sigmoid(Z1)\n",
    "    Z2 = np.dot(W2, A1) + b2                    # (1, 4)\n",
    "    A2 = sigmoid(Z2)\n",
    "    return A2\n"
   ]
  },
  {
   "cell_type": "code",
   "execution_count": null,
   "metadata": {},
   "outputs": [],
   "source": []
  }
 ],
 "metadata": {
  "kernelspec": {
   "display_name": "Python 3",
   "language": "python",
   "name": "python3"
  },
  "language_info": {
   "codemirror_mode": {
    "name": "ipython",
    "version": 3
   },
   "file_extension": ".py",
   "mimetype": "text/x-python",
   "name": "python",
   "nbconvert_exporter": "python",
   "pygments_lexer": "ipython3",
   "version": "3.12.8"
  }
 },
 "nbformat": 4,
 "nbformat_minor": 2
}
